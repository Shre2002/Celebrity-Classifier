{
 "cells": [
  {
   "cell_type": "code",
   "execution_count": 2,
   "id": "6d52d6e7",
   "metadata": {},
   "outputs": [
    {
     "name": "stdout",
     "output_type": "stream",
     "text": [
      "Collecting opencv-python\n",
      "  Downloading opencv_python-4.6.0.66-cp36-abi3-win_amd64.whl (35.6 MB)\n",
      "Requirement already satisfied: numpy>=1.17.3 in c:\\users\\shreya\\anaconda3\\lib\\site-packages (from opencv-python) (1.21.5)\n",
      "Installing collected packages: opencv-python\n",
      "Successfully installed opencv-python-4.6.0.66\n"
     ]
    }
   ],
   "source": [
    "!pip install opencv-python\n"
   ]
  },
  {
   "cell_type": "code",
   "execution_count": null,
   "id": "3be7093e",
   "metadata": {},
   "outputs": [],
   "source": []
  },
  {
   "cell_type": "code",
   "execution_count": 6,
   "id": "770d4bd6",
   "metadata": {},
   "outputs": [
    {
     "name": "stdout",
     "output_type": "stream",
     "text": [
      "Requirement already satisfied: Pywavelets in c:\\users\\shreya\\anaconda3\\lib\\site-packages (1.3.0)\n",
      "Requirement already satisfied: numpy>=1.17.3 in c:\\users\\shreya\\anaconda3\\lib\\site-packages (from Pywavelets) (1.21.5)\n"
     ]
    }
   ],
   "source": [
    "!pip install Pywavelets"
   ]
  },
  {
   "cell_type": "code",
   "execution_count": 17,
   "id": "364906bc",
   "metadata": {},
   "outputs": [
    {
     "name": "stdout",
     "output_type": "stream",
     "text": [
      "loading saved artifacts...start\n",
      "loading saved artifacts...done\n"
     ]
    }
   ],
   "source": [
    "import joblib\n",
    "import json\n",
    "import numpy as np\n",
    "import base64\n",
    "import cv2\n",
    "\n",
    "\n",
    "__class_name_to_number = {}\n",
    "__class_number_to_name = {}\n",
    "\n",
    "__model = None\n",
    "\n",
    "def classify_image(image_base64_data, file_path=None):\n",
    "\n",
    "    imgs = get_cropped_image_if_2_eyes(file_path, image_base64_data)\n",
    "\n",
    "    result = []\n",
    "    for img in imgs:\n",
    "        scalled_raw_img = cv2.resize(img, (32, 32))\n",
    "        img_har = w2d(img, 'db1', 5)\n",
    "        scalled_img_har = cv2.resize(img_har, (32, 32))\n",
    "        combined_img = np.vstack((scalled_raw_img.reshape(32 * 32 * 3, 1), scalled_img_har.reshape(32 * 32, 1)))\n",
    "\n",
    "        len_image_array = 32*32*3 + 32*32\n",
    "\n",
    "        final = combined_img.reshape(1,len_image_array).astype(float)\n",
    "        result.append({\n",
    "            'class': class_number_to_name(__model.predict(final)[0]),\n",
    "            'class_probability': np.around(__model.predict_proba(final)*100,2).tolist()[0],\n",
    "            'class_dictionary': __class_name_to_number\n",
    "        })\n",
    "\n",
    "    return result\n",
    "\n",
    "def class_number_to_name(class_num):\n",
    "    return __class_number_to_name[class_num]\n",
    "\n",
    "def load_saved_artifacts():\n",
    "    print(\"loading saved artifacts...start\")\n",
    "    global __class_name_to_number\n",
    "    global __class_number_to_name\n",
    "\n",
    "    with open(\"C:/Users/Shreya/Downloads/AI - Celebrity Image Classifier Project-20220904T063401Z-001\\AI - Celebrity Image Classifier Project/server/artifacts/class_dictionary.json\", \"r\") as f:\n",
    "        __class_name_to_number = json.load(f)\n",
    "        __class_number_to_name = {v:k for k,v in __class_name_to_number.items()}\n",
    "\n",
    "    global __model\n",
    "    if __model is None:\n",
    "        with open('C:/Users/Shreya/Downloads/AI - Celebrity Image Classifier Project-20220904T063401Z-001\\AI - Celebrity Image Classifier Project/server/artifacts/saved_model.pkl', 'rb') as f:\n",
    "            \n",
    "            print(\"loading saved artifacts...done\")\n",
    "\n",
    "\n",
    "def get_cv2_image_from_base64_string(b64str):\n",
    "    \n",
    "    encoded_data = b64str.split(',')[1]\n",
    "    nparr = np.frombuffer(base64.b64decode(encoded_data), np.uint8)\n",
    "    img = cv2.imdecode(nparr, cv2.IMREAD_COLOR)\n",
    "    return img\n",
    "\n",
    "def get_cropped_image_if_2_eyes(image_path, image_base64_data):\n",
    "    face_cascade = cv2.CascadeClassifier('C:/Users/Shreya/Downloads/AI - Celebrity Image Classifier Project-20220904T063401Z-001/AI - Celebrity Image Classifier Project/server/opencv/haarcascades/haarcascade_frontalface_default.xml')\n",
    "    eye_cascade = cv2.CascadeClassifier('C:/Users/Shreya/Downloads/AI - Celebrity Image Classifier Project-20220904T063401Z-001/AI - Celebrity Image Classifier Project/server/opencv/haarcascades/haarcascades/haarcascade_eye.xml')\n",
    "\n",
    "    if image_path:\n",
    "        img = cv2.imread(image_path)\n",
    "    else:\n",
    "        img = get_cv2_image_from_base64_string(image_base64_data)\n",
    "\n",
    "    gray = cv2.cvtColor(img, cv2.COLOR_BGR2GRAY)\n",
    "    faces = face_cascade.detectMultiScale(gray, 1.3, 5)\n",
    "\n",
    "    cropped_faces = []\n",
    "    for (x,y,w,h) in faces:\n",
    "            roi_gray = gray[y:y+h, x:x+w]\n",
    "            roi_color = img[y:y+h, x:x+w]\n",
    "            eyes = eye_cascade.detectMultiScale(roi_gray)\n",
    "            if len(eyes) >= 2:\n",
    "                cropped_faces.append(roi_color)\n",
    "    return cropped_faces\n",
    "\n",
    "def get_b64_test_image_for_virat():\n",
    "    with open(\"C:/Users/Shreya/Downloads/AI - Celebrity Image Classifier Project-20220904T063401Z-001/AI - Celebrity Image Classifier Project/server/b64.txt\") as f:\n",
    "        return f.read()\n",
    "\n",
    "if __name__ == '__main__':\n",
    "    load_saved_artifacts()\n",
    "\n",
    "    \n",
    "\n",
    "    "
   ]
  },
  {
   "cell_type": "code",
   "execution_count": null,
   "id": "a7e69664",
   "metadata": {},
   "outputs": [],
   "source": []
  }
 ],
 "metadata": {
  "kernelspec": {
   "display_name": "Python 3 (ipykernel)",
   "language": "python",
   "name": "python3"
  },
  "language_info": {
   "codemirror_mode": {
    "name": "ipython",
    "version": 3
   },
   "file_extension": ".py",
   "mimetype": "text/x-python",
   "name": "python",
   "nbconvert_exporter": "python",
   "pygments_lexer": "ipython3",
   "version": "3.9.12"
  }
 },
 "nbformat": 4,
 "nbformat_minor": 5
}
